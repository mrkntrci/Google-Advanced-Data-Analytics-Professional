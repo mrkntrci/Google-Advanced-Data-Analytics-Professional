{
 "cells": [
  {
   "cell_type": "code",
   "execution_count": 1,
   "metadata": {},
   "outputs": [
    {
     "name": "stdout",
     "output_type": "stream",
     "text": [
      "1977-05-08\n",
      "1977\n",
      "1977-04-08\n"
     ]
    }
   ],
   "source": [
    "import datetime  \n",
    "date = datetime.date(1977, 5, 8)       # assign a date to a variable\n",
    "print(date)                            # print date\n",
    "print(date.year)                       # print the year that the date is in\n",
    "\n",
    "delta = datetime.timedelta(days=30)    # assign a timedelta of 30 days to a \n",
    "                                       # variable\n",
    "print(date - delta)                    # print date of 30 days prior "
   ]
  },
  {
   "cell_type": "code",
   "execution_count": 2,
   "metadata": {},
   "outputs": [
    {
     "name": "stdout",
     "output_type": "stream",
     "text": [
      "1.0\n",
      "0.0\n",
      "24\n",
      "10.0\n"
     ]
    }
   ],
   "source": [
    "import math  \n",
    "print(math.exp(0))          # e**0\n",
    "print(math.log(1))          # ln(1)\n",
    "print(math.factorial(4))    # 4! \n",
    "print(math.sqrt(100))       # square root of 100"
   ]
  },
  {
   "cell_type": "code",
   "execution_count": 3,
   "metadata": {},
   "outputs": [
    {
     "name": "stdout",
     "output_type": "stream",
     "text": [
      "0.7755610417527723\n",
      "2\n",
      "1\n"
     ]
    }
   ],
   "source": [
    "import random\n",
    "print(random.random())          # 0.0 <= X < 1.0\n",
    "print(random.choice([1, 2, 3])) # choose a random element from a sequence\n",
    "print(random.randint(1, 10))    # a <= X <= b"
   ]
  },
  {
   "cell_type": "code",
   "execution_count": null,
   "metadata": {},
   "outputs": [],
   "source": []
  }
 ],
 "metadata": {
  "kernelspec": {
   "display_name": "Python 3",
   "language": "python",
   "name": "python3"
  },
  "language_info": {
   "codemirror_mode": {
    "name": "ipython",
    "version": 3
   },
   "file_extension": ".py",
   "mimetype": "text/x-python",
   "name": "python",
   "nbconvert_exporter": "python",
   "pygments_lexer": "ipython3",
   "version": "3.7.6"
  }
 },
 "nbformat": 4,
 "nbformat_minor": 4
}
