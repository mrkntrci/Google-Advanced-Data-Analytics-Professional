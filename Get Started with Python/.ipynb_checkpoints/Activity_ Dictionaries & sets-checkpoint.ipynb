{
 "cells": [
  {
   "cell_type": "markdown",
   "metadata": {
    "id": "-Lwnt5KN31Fq"
   },
   "source": [
    "<h1>Activity: Dictionaries and sets</h1>"
   ]
  },
  {
   "cell_type": "markdown",
   "metadata": {
    "id": "g3HOxOPG39KQ"
   },
   "source": [
    "## Introduction\n",
    "\n",
    "In this lab, you will practice creating, modifying, and working with data structures in Python. This will develop your knowledge of different kinds of data structures and the different operations that you can perform with them to answer questions about the data. This will help you prepare for projects you may encounter where you will need to use data structures to store and keep track of data.\n",
    "\n",
    "In your work as an analyst, you are continuing your research into air quality data collected by the U.S. Environmental Protection Agency (EPA). The air quality index (AQI) is a number that runs from 0 to 500. The higher the AQI value, the greater the level of air pollution and the greater the health concern. For example, an AQI value of 50 or below represents good air quality, while an AQI value over 300 represents hazardous air quality. Refer to this guide from [AirNow.gov](https://www.airnow.gov/aqi/aqi-basics/) for more information.\n",
    "\n",
    "In this activity, you will create, modify, and update dictionaries and sets. You will also be working with more data than in previous labs to more closely resemble situations encountered by working data professionals."
   ]
  },
  {
   "cell_type": "code",
   "execution_count": 1,
   "metadata": {
    "id": "ifs5GtHdctXg"
   },
   "outputs": [],
   "source": [
    "# Create a list of tuples\n",
    "\n",
    "# RUN THIS CELL TO IMPORT YOUR DATA\n",
    "import ada_c2_labs as lab\n",
    "state_list = lab.fetch_epa('state')\n",
    "county_list = lab.fetch_epa('county')\n",
    "aqi_list = lab.fetch_epa('aqi')"
   ]
  },
  {
   "cell_type": "code",
   "execution_count": 2,
   "metadata": {
    "id": "UFDv3-UMSSQ1"
   },
   "outputs": [],
   "source": [
    "epa_tuples = []\n",
    "for i in range(len(state_list)):\n",
    "    elements = (state_list[i], county_list[i], aqi_list[i])\n",
    "    epa_tuples.append(elements)"
   ]
  },
  {
   "cell_type": "code",
   "execution_count": 3,
   "metadata": {
    "id": "5wf42bG-d6wC"
   },
   "outputs": [],
   "source": [
    "# Create a dictionary\n",
    "\n",
    "aqi_dict = {}\n",
    "\n",
    "for state, county, aqi in epa_tuples:\n",
    "    if state in aqi_dict:                    # If position already a key in new_team,\n",
    "        aqi_dict[state].append((county, aqi))  # append (name, age) tup to list at that value.\n",
    "    else:\n",
    "        aqi_dict[state] = [(county, aqi)] "
   ]
  },
  {
   "cell_type": "code",
   "execution_count": 17,
   "metadata": {
    "id": "E14DYfPFzk5K"
   },
   "outputs": [
    {
     "data": {
      "text/plain": [
       "72"
      ]
     },
     "execution_count": 17,
     "metadata": {},
     "output_type": "execute_result"
    }
   ],
   "source": [
    "# Calculate how many readings were recorded in the state of Arizona\n",
    "\n",
    "len(aqi_dict['Arizona'])"
   ]
  },
  {
   "cell_type": "code",
   "execution_count": 39,
   "metadata": {
    "id": "Rb9y0usK0Ebn"
   },
   "outputs": [
    {
     "data": {
      "text/plain": [
       "9.412280701754385"
      ]
     },
     "execution_count": 39,
     "metadata": {},
     "output_type": "execute_result"
    }
   ],
   "source": [
    "# Calculate the mean AQI from the state of California\n",
    "\n",
    "california = aqi_dict['California']\n",
    "sum = 0\n",
    "for i in range(len(california)):\n",
    "    sum += california[i][1]\n",
    "    \n",
    "sum / len(california)"
   ]
  },
  {
   "cell_type": "code",
   "execution_count": 167,
   "metadata": {
    "id": "VoYZhy8PLMvN"
   },
   "outputs": [],
   "source": [
    "# Define a county_counter() function to counts the counties in the dictionary\n",
    "\n",
    "def county_counter(state):\n",
    "    county_dict = {}\n",
    "    for county, aqi in aqi_dict[state]:\n",
    "        if county not in county_dict:\n",
    "            county_dict[county] = 1\n",
    "        elif county in county_dict:\n",
    "            county_dict[county] += 1\n",
    "    return county_dict\n",
    "    "
   ]
  },
  {
   "cell_type": "code",
   "execution_count": 161,
   "metadata": {},
   "outputs": [
    {
     "data": {
      "text/plain": [
       "{'King': 17,\n",
       " 'Yakima': 3,\n",
       " 'Snohomish': 2,\n",
       " 'Spokane': 8,\n",
       " 'Thurston': 2,\n",
       " 'Clark': 2,\n",
       " 'Pierce': 2}"
      ]
     },
     "execution_count": 161,
     "metadata": {},
     "output_type": "execute_result"
    }
   ],
   "source": [
    "county_counter('Washington')"
   ]
  },
  {
   "cell_type": "code",
   "execution_count": 169,
   "metadata": {},
   "outputs": [
    {
     "data": {
      "text/plain": [
       "7"
      ]
     },
     "execution_count": 169,
     "metadata": {},
     "output_type": "execute_result"
    }
   ],
   "source": [
    "# Use the function to check Washington County, PA.\n",
    "\n",
    "len(county_counter('Washington'))"
   ]
  },
  {
   "cell_type": "code",
   "execution_count": 190,
   "metadata": {
    "colab": {
     "base_uri": "https://localhost:8080/"
    },
    "executionInfo": {
     "elapsed": 216,
     "status": "ok",
     "timestamp": 1680295256697,
     "user": {
      "displayName": "Matteo Riotto",
      "userId": "15211004813978485634"
     },
     "user_tz": 420
    },
    "id": "liiiVWXgV4_8",
    "outputId": "c73b05a3-7585-49e3-f55e-59c1b0ab6b61"
   },
   "outputs": [
    {
     "name": "stdout",
     "output_type": "stream",
     "text": [
      "['Marion', 'St. Joseph', 'Vanderburgh', 'Allen', 'Vigo', 'Hendricks', 'Lake']\n",
      "dict_keys(['Marion', 'St. Joseph', 'Vanderburgh', 'Allen', 'Vigo', 'Hendricks', 'Lake'])\n"
     ]
    }
   ],
   "source": [
    "# Use the function to check the different counties in Indiana\n",
    "\n",
    "indiana = county_counter('Indiana')\n",
    "my_list = []\n",
    "for county, aqi in indiana.items():\n",
    "    my_list.append(county)\n",
    "    \n",
    "print(my_list) \n",
    "print(indiana.keys())"
   ]
  },
  {
   "cell_type": "code",
   "execution_count": 225,
   "metadata": {
    "colab": {
     "base_uri": "https://localhost:8080/"
    },
    "executionInfo": {
     "elapsed": 361,
     "status": "ok",
     "timestamp": 1680295739343,
     "user": {
      "displayName": "Matteo Riotto",
      "userId": "15211004813978485634"
     },
     "user_tz": 420
    },
    "id": "2z7AZm6KaEj0",
    "outputId": "33104782-9476-4ce7-a18b-8765e387c673"
   },
   "outputs": [
    {
     "data": {
      "text/plain": [
       "277"
      ]
     },
     "execution_count": 225,
     "metadata": {},
     "output_type": "execute_result"
    }
   ],
   "source": [
    "# Construct a list of every county from every state\n",
    "\n",
    "all_counties = []\n",
    "for keys in aqi_dict.keys():\n",
    "    for county in county_counter(keys):\n",
    "        all_counties.append(county)\n",
    "\n",
    "len(all_counties)"
   ]
  },
  {
   "cell_type": "code",
   "execution_count": 247,
   "metadata": {},
   "outputs": [
    {
     "data": {
      "text/plain": [
       "41"
      ]
     },
     "execution_count": 247,
     "metadata": {},
     "output_type": "execute_result"
    }
   ],
   "source": [
    "# Calculate how many counties share names\n",
    "\n",
    "shared_count = 0 \n",
    "\n",
    "for county in set(all_counties): \n",
    "    count = all_counties.count(county)\n",
    "    if count > 1: \n",
    "        shared_count += count\n",
    "        \n",
    "shared_count"
   ]
  },
  {
   "cell_type": "code",
   "execution_count": 248,
   "metadata": {
    "colab": {
     "base_uri": "https://localhost:8080/"
    },
    "executionInfo": {
     "elapsed": 9,
     "status": "ok",
     "timestamp": 1680297704209,
     "user": {
      "displayName": "Matteo Riotto",
      "userId": "15211004813978485634"
     },
     "user_tz": 420
    },
    "id": "ai7AFt_9irLm",
    "outputId": "78834ce6-acd3-4ded-f80f-d4fa4fc9ac6e"
   },
   "outputs": [
    {
     "data": {
      "text/plain": [
       "23"
      ]
     },
     "execution_count": 248,
     "metadata": {},
     "output_type": "execute_result"
    }
   ],
   "source": [
    "counties_set= set(all_counties)\n",
    "len(all_counties) - len(counties_set)\n"
   ]
  }
 ],
 "metadata": {
  "colab": {
   "provenance": []
  },
  "kernelspec": {
   "display_name": "Python 3 (ipykernel)",
   "language": "python",
   "name": "python3"
  },
  "language_info": {
   "codemirror_mode": {
    "name": "ipython",
    "version": 3
   },
   "file_extension": ".py",
   "mimetype": "text/x-python",
   "name": "python",
   "nbconvert_exporter": "python",
   "pygments_lexer": "ipython3",
   "version": "3.11.3"
  }
 },
 "nbformat": 4,
 "nbformat_minor": 1
}
