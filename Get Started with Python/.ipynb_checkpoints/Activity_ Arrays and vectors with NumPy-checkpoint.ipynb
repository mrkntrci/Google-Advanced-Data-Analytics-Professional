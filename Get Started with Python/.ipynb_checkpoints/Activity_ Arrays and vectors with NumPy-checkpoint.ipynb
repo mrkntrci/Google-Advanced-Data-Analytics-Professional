{
 "cells": [
  {
   "cell_type": "markdown",
   "metadata": {
    "id": "1BwuLdPviXFX"
   },
   "source": [
    "<h1>Activity: Vectors and arrays with NumPy</h1>"
   ]
  },
  {
   "cell_type": "markdown",
   "metadata": {
    "id": "ggu2qS99icFG"
   },
   "source": [
    "## Introduction \n",
    "\n",
    "Your work as a data professional for the U.S. Environmental Protection Agency (EPA) requires you to analyze air quality index data collected from the United States and Mexico.\n",
    "\n",
    "The air quality index (AQI) is a number that runs from 0 to 500. The higher the AQI value, the greater the level of air pollution and the greater the health concern. For example, an AQI value of 50 or below represents good air quality, while an AQI value over 300 represents hazardous air quality. Refer to this guide from [AirNow.gov](https://www.airnow.gov/aqi/aqi-basics/) for more information.\n",
    "\n",
    "In this lab, you will work with NumPy arrays to perform calculations and evaluations with data they contain. Specifically, you'll be working with just the data from the numerical AQI readings.\n"
   ]
  },
  {
   "cell_type": "code",
   "execution_count": 1,
   "metadata": {
    "id": "iprLwtIliTxu"
   },
   "outputs": [],
   "source": [
    "import numpy as np"
   ]
  },
  {
   "cell_type": "markdown",
   "metadata": {
    "id": "2PYX8U_C9nFw"
   },
   "source": [
    "## 1b: Create an array of AQI data\n",
    "\n",
    "You are given an ordered `list` of AQI readings called `aqi_list`.\n",
    "\n",
    "1. Use a NumPy function to convert the list to an `ndarray`. Assign the result to a variable called `aqi_array`.\n",
    "2. Print the length of `aqi_array`.\n",
    "3. Print the first five elements of `aqi_array`.\n",
    "\n",
    "*Expected result:*\n",
    "\n",
    "```\n",
    "[OUT] 1725\n",
    "      [18.  9. 20. 11.  6.]\n",
    "```"
   ]
  },
  {
   "cell_type": "code",
   "execution_count": 2,
   "metadata": {
    "id": "vODHtgS094Md"
   },
   "outputs": [],
   "source": [
    "### Import the data\n",
    "import ada_c2_labs as lab\n",
    "aqi_list = lab.fetch_epa('aqi')"
   ]
  },
  {
   "cell_type": "code",
   "execution_count": 4,
   "metadata": {
    "id": "FHIOmXBpxixx"
   },
   "outputs": [
    {
     "name": "stdout",
     "output_type": "stream",
     "text": [
      "1725\n",
      "[18.  9. 20. 11.  6. 11.]\n"
     ]
    }
   ],
   "source": [
    "# Create an array of AQI data\n",
    "\n",
    "aqi_array = np.array(aqi_list)\n",
    "\n",
    "# 2. ### YOUR CODE HERE ###\n",
    "print(len(aqi_array))\n",
    "\n",
    "# 3. ### YOUR CODE HERE ###\n",
    "print(aqi_array[0:6])"
   ]
  },
  {
   "cell_type": "code",
   "execution_count": 14,
   "metadata": {
    "id": "B5Iqr7BwBf1s"
   },
   "outputs": [
    {
     "name": "stdout",
     "output_type": "stream",
     "text": [
      "Max = 93.0\n",
      "Min = 0.0\n",
      "Median = 8.0\n",
      "Std = 10.382982538847708\n"
     ]
    }
   ],
   "source": [
    "# Calculate summary statistics\n",
    "\n",
    "print('Max = ' + str(np.max(aqi_array)))\n",
    "print('Min = ' + str(np.min(aqi_array)))\n",
    "print('Median = ' + str(np.median(aqi_array)))\n",
    "print('Std = ' + str(np.std(aqi_array)))"
   ]
  },
  {
   "cell_type": "code",
   "execution_count": 44,
   "metadata": {
    "id": "bIT_DvzW_Pft"
   },
   "outputs": [
    {
     "name": "stdout",
     "output_type": "stream",
     "text": [
      "0.3194202898550725\n"
     ]
    }
   ],
   "source": [
    "# Calculate percentage of readings with cleanest AQI\n",
    "\n",
    "boolean_aqi = np.zeros(aqi_array.shape)\n",
    "for i in range(len(aqi_array)):\n",
    "    if aqi_array[i] <= 5:\n",
    "        boolean_aqi[i] = True\n",
    "    else:\n",
    "        boolean_aqi[i] = False\n",
    "        \n",
    "total= np.sum(boolean_aqi)\n",
    "percent_under_6 = total / len(aqi_array)\n",
    "print(percent_under_6)"
   ]
  }
 ],
 "metadata": {
  "colab": {
   "provenance": []
  },
  "kernelspec": {
   "display_name": "Python 3 (ipykernel)",
   "language": "python",
   "name": "python3"
  },
  "language_info": {
   "codemirror_mode": {
    "name": "ipython",
    "version": 3
   },
   "file_extension": ".py",
   "mimetype": "text/x-python",
   "name": "python",
   "nbconvert_exporter": "python",
   "pygments_lexer": "ipython3",
   "version": "3.11.3"
  }
 },
 "nbformat": 4,
 "nbformat_minor": 1
}
