{
 "cells": [
  {
   "cell_type": "markdown",
   "metadata": {
    "id": "m14F-xriYRB8"
   },
   "source": [
    "<summary><h1>Activity: For loops</h1></summary>"
   ]
  },
  {
   "cell_type": "markdown",
   "metadata": {
    "id": "tsXwTAlCYWF2"
   },
   "source": [
    "## Introduction \n",
    "\n",
    "As a data professional, you may need to use methods that involve repetition. For example, when analyzing customer feedback from surveys, you may need to compare averages across categories. In Python, using iterative statements helps automate this task and makes them more efficient.\n",
    "\n",
    "In this lab, you will practice writing iterative statements using `for` loops. "
   ]
  },
  {
   "cell_type": "code",
   "execution_count": 37,
   "metadata": {},
   "outputs": [],
   "source": [
    "# Iterating with if, elif, and else\n",
    "\n",
    "\n",
    "def score_counter(score_list):\n",
    "    neg,neu,pos = 0,0,0\n",
    "    for i in score_list:\n",
    "        if i>= 1 and i<=5:\n",
    "            neg +=1\n",
    "        elif i>= 6 and i<=8:\n",
    "            neu +=1\n",
    "        elif i>= 9 and i<=10:\n",
    "            pos +=1\n",
    "    print('Negative: ' + str(neg))\n",
    "    print('Neutral: ' + str(neu))\n",
    "    print('Positive: ' + str(pos))\n",
    "\n"
   ]
  },
  {
   "cell_type": "code",
   "execution_count": 38,
   "metadata": {},
   "outputs": [
    {
     "name": "stdout",
     "output_type": "stream",
     "text": [
      "Negative: 5\n",
      "Neutral: 3\n",
      "Positive: 2\n"
     ]
    }
   ],
   "source": [
    "score_counter([1, 2, 3, 4, 5, 6, 7, 8, 9, 10])"
   ]
  },
  {
   "cell_type": "code",
   "execution_count": 46,
   "metadata": {
    "colab": {
     "base_uri": "https://localhost:8080/"
    },
    "executionInfo": {
     "elapsed": 8,
     "status": "ok",
     "timestamp": 1680062595536,
     "user": {
      "displayName": "Matteo Riotto",
      "userId": "15211004813978485634"
     },
     "user_tz": 420
    },
    "id": "25V5vfEGVFEF",
    "outputId": "49fcaa0e-19f8-4c45-d41d-5f0c4b8128b7"
   },
   "outputs": [
    {
     "name": "stdout",
     "output_type": "stream",
     "text": [
      "Test 1:\n",
      "Negative: 5\n",
      "Neutral: 1\n",
      "Positive: 4\n",
      "\n",
      "Test 2:\n",
      "Negative: 85\n",
      "Neutral: 253\n",
      "Positive: 112\n",
      "\n",
      "Test 3:\n",
      "Negative: 1935\n",
      "Neutral: 2652\n",
      "Positive: 5413\n"
     ]
    }
   ],
   "source": [
    "# Test the Function\n",
    "\n",
    "import random\n",
    "random.seed(42)\n",
    "\n",
    "possible_scores = list(range(1,11))\n",
    "score_list1 = random.choices(possible_scores, weights=[8,8,8,8,8,3,3,4,20,30], k=10)\n",
    "score_list2 = random.choices(possible_scores, weights=[1,2,3,4,5,10,15,15,7,9], k=450)\n",
    "score_list3 = random.choices(possible_scores, weights=[1,2,3,4,4,5,5,10,15,25], k=10000)\n",
    "\n",
    "print('Test 1:')            # SHOULD OUTPUT (neg, neut, pos):\n",
    "score_counter(score_list1)  # 5, 1, 4\n",
    "print('\\nTest 2:')\n",
    "score_counter(score_list2)  # 85, 253, 112\n",
    "print('\\nTest 3:')\n",
    "score_counter(score_list3)  # 1935, 2652, 5413"
   ]
  },
  {
   "cell_type": "code",
   "execution_count": 45,
   "metadata": {},
   "outputs": [
    {
     "name": "stdout",
     "output_type": "stream",
     "text": [
      "Negative: 1935\n",
      "Neutral: 2652\n",
      "Positive: 5413\n"
     ]
    }
   ],
   "source": [
    "score_counter(score_list3)"
   ]
  },
  {
   "cell_type": "code",
   "execution_count": 100,
   "metadata": {
    "id": "AdTs3KkUoVVk"
   },
   "outputs": [],
   "source": [
    "# Create a for loop using if, not, and in\n",
    "\n",
    "# This function compares two lists and finds the unmatched records in one list\n",
    "# Firstly, verified results are found and removed from the total records to find the unverified\n",
    "# When not used adds increments to every iteration and produce inaccurate result\n",
    "\n",
    "def id_validator(verified_ids, feedback_ids):\n",
    "    verified = 0\n",
    "    total = len(feedback_ids)\n",
    "    for  f_id in feedback_ids:\n",
    "        for v_id in verified_ids:\n",
    "            if  v_id == f_id:\n",
    "                verified += 1\n",
    "    unverified = total - verified\n",
    "    print(str(unverified) + ' of ' + str(total) + ' IDs unverified')\n",
    "    percentange = round(unverified * 100 / total , 2)\n",
    "    print(str(percentange) + '% unverified')"
   ]
  },
  {
   "cell_type": "markdown",
   "metadata": {
    "id": "TTjPB1koqJUO"
   },
   "source": [
    "### Test your function\n",
    "Test your function against the following cases by running the cell below."
   ]
  },
  {
   "cell_type": "code",
   "execution_count": 102,
   "metadata": {
    "id": "u2ysW2IO1psk"
   },
   "outputs": [
    {
     "name": "stdout",
     "output_type": "stream",
     "text": [
      "Test 1:\n",
      "4 of 15 IDs unverified\n",
      "26.67% unverified\n",
      "\n",
      "Test 2:\n",
      "357 of 900 IDs unverified\n",
      "39.67% unverified\n",
      "\n",
      "Test 3:\n",
      "1208 of 14925 IDs unverified\n",
      "8.09% unverified\n"
     ]
    }
   ],
   "source": [
    "# Test the function\n",
    "\n",
    "import ada_c2_labs as lab\n",
    "\n",
    "# TEST SCENARIOS:                                   # SHOULD OUTPUT:\n",
    "print('Test 1:')\n",
    "ver1, fb1 = lab.lists_gen(8, 20, 15, 15)            # 4 of 15 IDs unverified.\n",
    "id_validator(ver1, fb1)                             # 26.67% unverified.\n",
    "\n",
    "print('\\nTest 2:')\n",
    "ver2, fb2 = lab.lists_gen(8, 1000, 900, 600)        # 357 of 900 IDs unverified.\n",
    "id_validator(ver2, fb2)                             # 39.67% unverified.\n",
    "\n",
    "print('\\nTest 3:')\n",
    "ver3, fb3 = lab.lists_gen(8, 15000, 14925, 13788)   # 1208 of 14925 IDs unverified.\n",
    "id_validator(ver3, fb3)                             # 8.09% unverified."
   ]
  },
  {
   "cell_type": "code",
   "execution_count": 129,
   "metadata": {
    "id": "NROZmlPopESe"
   },
   "outputs": [],
   "source": [
    "# Create a nested loop\n",
    "\n",
    "\n",
    "# This function finds the number of purchases bigger than $100\n",
    "def purchases_100(sales):\n",
    "    sale_number = 0\n",
    "    for sale in sales:\n",
    "         for price in sale:\n",
    "            if price >= 100.0:\n",
    "                sale_number += 1\n",
    "    return sale_number           "
   ]
  },
  {
   "cell_type": "code",
   "execution_count": 170,
   "metadata": {},
   "outputs": [],
   "source": [
    "# This is not nested but it works\n",
    "def purchases_100(sales):\n",
    "    sale_number = 0\n",
    "    price = 0\n",
    "    customer_number = 0\n",
    "    for sale in sales:\n",
    "            if sum(sale) >= 100:\n",
    "                customer_number += 1\n",
    "    print(customer_number)            "
   ]
  },
  {
   "cell_type": "code",
   "execution_count": 162,
   "metadata": {},
   "outputs": [
    {
     "name": "stdout",
     "output_type": "stream",
     "text": [
      "100.0\n",
      "461.88000000000005\n",
      "2\n"
     ]
    }
   ],
   "source": [
    "# Testing the function\n",
    "\n",
    "purchases_100(sales = [[2.75], [50.0, 50.0], [150.46, 200.12, 111.30]])"
   ]
  },
  {
   "cell_type": "code",
   "execution_count": 171,
   "metadata": {
    "id": "tYFv-iLp1ZCp",
    "scrolled": true
   },
   "outputs": [
    {
     "name": "stdout",
     "output_type": "stream",
     "text": [
      "5\n",
      "Test 1: None\n",
      "46\n",
      "Test 2: None\n",
      "470\n",
      "Test 3: None\n"
     ]
    }
   ],
   "source": [
    "# Test the function\n",
    "\n",
    "\n",
    "import ada_c2_labs as lab\n",
    "sales1 = lab.sales_data_generator(n_customers=10, seed=1)   # SHOULD OUTPUT:\n",
    "print('Test 1:', purchases_100(sales1))                     # 5\n",
    "\n",
    "sales2 = lab.sales_data_generator(n_customers=150, seed=18)\n",
    "print('Test 2:', purchases_100(sales2))                     # 46\n",
    "\n",
    "sales3 = lab.sales_data_generator(n_customers=1275, seed=42)\n",
    "print('Test 3:', purchases_100(sales3))                     # 470"
   ]
  }
 ],
 "metadata": {
  "colab": {
   "provenance": []
  },
  "kernelspec": {
   "display_name": "Python 3 (ipykernel)",
   "language": "python",
   "name": "python3"
  },
  "language_info": {
   "codemirror_mode": {
    "name": "ipython",
    "version": 3
   },
   "file_extension": ".py",
   "mimetype": "text/x-python",
   "name": "python",
   "nbconvert_exporter": "python",
   "pygments_lexer": "ipython3",
   "version": "3.11.3"
  }
 },
 "nbformat": 4,
 "nbformat_minor": 1
}
