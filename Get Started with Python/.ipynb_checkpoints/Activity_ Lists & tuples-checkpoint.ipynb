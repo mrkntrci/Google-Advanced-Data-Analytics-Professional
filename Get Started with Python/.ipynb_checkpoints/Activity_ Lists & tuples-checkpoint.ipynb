{
 "cells": [
  {
   "cell_type": "markdown",
   "metadata": {
    "id": "KBiVrAwUswaC"
   },
   "source": [
    "<h1>Activity: Introduction to lists and tuples</h1>"
   ]
  },
  {
   "cell_type": "markdown",
   "metadata": {
    "id": "h6Ek5LgkszCv"
   },
   "source": [
    "## Introduction \n",
    "\n",
    "In this lab, you will practice creating, modifying, and working with data structures in Python. This will develop your knowledge of different kinds of data structures and the different operations that you can perform with them to answer questions about the data. This will help you prepare for projects you may encounter where you will need to use data structures to store and keep track of data.\n",
    "\n",
    "For this activity, you are part of a research team that focuses on air quality, and you have received a few data points collected by the U.S. Environmental Protection Agency (EPA). Your goal is to store and organize this data, so that it can be accessed and updated easily.\n",
    "\n",
    "In this lab, you'll be working specifically with the state names and county names of places that reported air quality index readings."
   ]
  },
  {
   "cell_type": "code",
   "execution_count": 1,
   "metadata": {
    "id": "mifeWTLK9RSL"
   },
   "outputs": [],
   "source": [
    "# Creating lists of states and counties\n",
    "\n",
    "state_names = ['Arizona','California','California','Kentucky','Louisiana']\n",
    "\n",
    "county_names = ['Maricopa','Alameda','Sacramento','Jefferson','East Baton Rouge']"
   ]
  },
  {
   "cell_type": "code",
   "execution_count": 39,
   "metadata": {
    "colab": {
     "base_uri": "https://localhost:8080/"
    },
    "executionInfo": {
     "elapsed": 198,
     "status": "ok",
     "timestamp": 1680215612444,
     "user": {
      "displayName": "Matteo Riotto",
      "userId": "15211004813978485634"
     },
     "user_tz": 420
    },
    "id": "4wZijs-JI5q9",
    "outputId": "ab56737b-cea0-480c-f9e4-48b4a8aad058"
   },
   "outputs": [],
   "source": [
    "# Use a loop to combine the lists into a single list of tuples\n",
    "\n",
    "state_county_tuples = []\n",
    "\n",
    "list_range = range(len(county_names))\n",
    "\n",
    "for i in list_range:\n",
    "        state_county_tuple = (state_names[i], county_names[i]) # You can't assign like state_county_tuple[0], you can create an element\n",
    "        state_county_tuples.append(state_county_tuple)         # and you can append that element into our list of tuples"
   ]
  },
  {
   "cell_type": "code",
   "execution_count": 4,
   "metadata": {
    "colab": {
     "base_uri": "https://localhost:8080/"
    },
    "executionInfo": {
     "elapsed": 176,
     "status": "ok",
     "timestamp": 1680215616018,
     "user": {
      "displayName": "Matteo Riotto",
      "userId": "15211004813978485634"
     },
     "user_tz": 420
    },
    "id": "Ok6_9uQEbDba",
    "outputId": "b498d005-7b05-4ac3-ac99-3ec1124b356d"
   },
   "outputs": [
    {
     "name": "stdout",
     "output_type": "stream",
     "text": [
      "<zip object at 0x7f97601b6230>\n",
      "[('a', 1), ('b', 2), ('c', 3)]\n"
     ]
    }
   ],
   "source": [
    "# Use the zip() function to combine the lists into a single list of tuples\n",
    "\n",
    "a = ['a', 'b', 'c']\n",
    "b = [1, 2, 3]\n",
    "c = zip(a, b)\n",
    "\n",
    "print(c)\n",
    "print(list(c))"
   ]
  },
  {
   "cell_type": "code",
   "execution_count": 40,
   "metadata": {
    "colab": {
     "base_uri": "https://localhost:8080/"
    },
    "executionInfo": {
     "elapsed": 196,
     "status": "ok",
     "timestamp": 1680215617920,
     "user": {
      "displayName": "Matteo Riotto",
      "userId": "15211004813978485634"
     },
     "user_tz": 420
    },
    "id": "OfQvejUZJo5T",
    "outputId": "1c086d2f-fcb7-4de8-cbf0-22dbfefb33ee"
   },
   "outputs": [
    {
     "data": {
      "text/plain": [
       "True"
      ]
     },
     "execution_count": 40,
     "metadata": {},
     "output_type": "execute_result"
    }
   ],
   "source": [
    "# Use the zip() function to generate the same output \n",
    "\n",
    "state_county_zipped = zip(state_names, county_names)\n",
    "state_county_zipped = list(state_county_zipped)\n",
    "state_county_tuples == state_county_zipped"
   ]
  },
  {
   "cell_type": "code",
   "execution_count": 10,
   "metadata": {},
   "outputs": [
    {
     "data": {
      "text/plain": [
       "zip"
      ]
     },
     "execution_count": 10,
     "metadata": {},
     "output_type": "execute_result"
    }
   ],
   "source": [
    "type(state_county_tuples)"
   ]
  },
  {
   "cell_type": "code",
   "execution_count": 65,
   "metadata": {
    "colab": {
     "base_uri": "https://localhost:8080/"
    },
    "executionInfo": {
     "elapsed": 201,
     "status": "ok",
     "timestamp": 1680215622689,
     "user": {
      "displayName": "Matteo Riotto",
      "userId": "15211004813978485634"
     },
     "user_tz": 420
    },
    "id": "2MPPyoLZhZ4j",
    "outputId": "e5d01096-b24d-4e34-9ec9-22cfe52bec38"
   },
   "outputs": [
    {
     "data": {
      "text/plain": [
       "[['Arizona', 'Maricopa'],\n",
       " ['California', 'Alameda'],\n",
       " ['California', 'Sacramento'],\n",
       " ['Kentucky', 'Jefferson'],\n",
       " ['Louisiana', 'East Baton Rouge']]"
      ]
     },
     "execution_count": 65,
     "metadata": {},
     "output_type": "execute_result"
    }
   ],
   "source": [
    "# Use list comprehension to convert to list of lists\n",
    "\n",
    "state_county_lists = [[x[0], x[1]] for x in state_county_tuples ]\n",
    "\n",
    "state_county_lists\n"
   ]
  },
  {
   "cell_type": "code",
   "execution_count": 110,
   "metadata": {
    "colab": {
     "base_uri": "https://localhost:8080/"
    },
    "executionInfo": {
     "elapsed": 259,
     "status": "ok",
     "timestamp": 1680220162897,
     "user": {
      "displayName": "Matteo Riotto",
      "userId": "15211004813978485634"
     },
     "user_tz": 420
    },
    "id": "fnM_zydH7HU9",
    "outputId": "6a14ffb7-eff9-4b35-94fb-d1e9b85e3f98"
   },
   "outputs": [
    {
     "data": {
      "text/plain": [
       "['Alameda', 'Sacramento']"
      ]
     },
     "execution_count": 110,
     "metadata": {},
     "output_type": "execute_result"
    }
   ],
   "source": [
    "# Unpacking an iterable\n",
    "\n",
    "ca_counties = []\n",
    "for i in state_county_tuples:\n",
    "    if i[0] == 'California':\n",
    "        ca_counties.append(i[1])  \n",
    "ca_counties"
   ]
  },
  {
   "cell_type": "code",
   "execution_count": 86,
   "metadata": {},
   "outputs": [
    {
     "data": {
      "text/plain": [
       "[('Arizona', 'Maricopa'),\n",
       " ('California', 'Alameda'),\n",
       " ('California', 'Sacramento'),\n",
       " ('Kentucky', 'Jefferson'),\n",
       " ('Louisiana', 'East Baton Rouge')]"
      ]
     },
     "execution_count": 86,
     "metadata": {},
     "output_type": "execute_result"
    }
   ],
   "source": [
    "state_county_tuples"
   ]
  },
  {
   "cell_type": "code",
   "execution_count": 113,
   "metadata": {},
   "outputs": [
    {
     "name": "stdout",
     "output_type": "stream",
     "text": [
      "['Alameda', 'Sacramento']\n"
     ]
    },
    {
     "data": {
      "text/plain": [
       "True"
      ]
     },
     "execution_count": 113,
     "metadata": {},
     "output_type": "execute_result"
    }
   ],
   "source": [
    "# Unpacking in a list comprehension\n",
    "\n",
    "print(ca_counties)        \n",
    "ca_counties_comp = []        \n",
    "[ca_counties_comp.append(i[1]) for i in state_county_tuples if i[0] == 'California']\n",
    "\n",
    "ca_counties_comp == ca_counties"
   ]
  }
 ],
 "metadata": {
  "colab": {
   "provenance": [],
   "toc_visible": true
  },
  "kernelspec": {
   "display_name": "Python 3 (ipykernel)",
   "language": "python",
   "name": "python3"
  },
  "language_info": {
   "codemirror_mode": {
    "name": "ipython",
    "version": 3
   },
   "file_extension": ".py",
   "mimetype": "text/x-python",
   "name": "python",
   "nbconvert_exporter": "python",
   "pygments_lexer": "ipython3",
   "version": "3.11.3"
  }
 },
 "nbformat": 4,
 "nbformat_minor": 1
}
