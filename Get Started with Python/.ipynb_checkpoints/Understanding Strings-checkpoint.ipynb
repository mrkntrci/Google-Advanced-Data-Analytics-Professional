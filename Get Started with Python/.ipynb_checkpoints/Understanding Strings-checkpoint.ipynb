{
 "cells": [
  {
   "cell_type": "markdown",
   "metadata": {
    "id": "zdhKGagO-08G"
   },
   "source": [
    "<summary><h1>Activity: Work with strings in Python</h1></summary>"
   ]
  },
  {
   "cell_type": "code",
   "execution_count": 1,
   "metadata": {
    "colab": {
     "base_uri": "https://localhost:8080/"
    },
    "executionInfo": {
     "elapsed": 9,
     "status": "ok",
     "timestamp": 1679944105599,
     "user": {
      "displayName": "Matteo Riotto",
      "userId": "15211004813978485634"
     },
     "user_tz": 420
    },
    "id": "mE4L9dLfAgH5",
    "outputId": "48f48e81-1749-4b6c-a31f-e862318f08f2"
   },
   "outputs": [
    {
     "data": {
      "text/plain": [
       "True"
      ]
     },
     "execution_count": 1,
     "metadata": {},
     "output_type": "execute_result"
    }
   ],
   "source": [
    "# Checking the variable type and convert to string and check if the conversion happened\n",
    "\n",
    "store_id = 1101\n",
    "\n",
    "store_id = str(store_id)\n",
    "\n",
    "type(store_id) == str"
   ]
  },
  {
   "cell_type": "code",
   "execution_count": 22,
   "metadata": {
    "id": "LpOUeHDaAgH8"
   },
   "outputs": [],
   "source": [
    "# Function to  check the input zipcode validation based on the given criteria\n",
    "\n",
    "def zip_checker(zipcode):\n",
    "    if len(zipcode) == 5 and zipcode[:2] != '00':\n",
    "        return zipcode\n",
    "    elif len(zipcode) == 4 and zipcode[:1] != '0':\n",
    "        return('0' + zipcode) \n",
    "    else:\n",
    "        return('Invalid ZIP Code.')"
   ]
  },
  {
   "cell_type": "code",
   "execution_count": 23,
   "metadata": {
    "colab": {
     "base_uri": "https://localhost:8080/"
    },
    "executionInfo": {
     "elapsed": 4,
     "status": "ok",
     "timestamp": 1679946210275,
     "user": {
      "displayName": "Matteo Riotto",
      "userId": "15211004813978485634"
     },
     "user_tz": 420
    },
    "id": "Hw6Zo-yLkGoh",
    "outputId": "bfe0b331-0c79-4028-afae-2b4088b5239b"
   },
   "outputs": [
    {
     "name": "stdout",
     "output_type": "stream",
     "text": [
      "02806\n",
      "02806\n",
      "Invalid ZIP Code.\n",
      "Invalid ZIP Code.\n"
     ]
    }
   ],
   "source": [
    "# Testing function \n",
    "\n",
    "print(zip_checker('02806'))     # Should return 02806.\n",
    "print(zip_checker('2806'))      # Should return 02806.\n",
    "print(zip_checker('0280'))      # Should return 'Invalid ZIP Code.'\n",
    "print(zip_checker('00280'))     # Should return 'Invalid ZIP Code.'"
   ]
  },
  {
   "cell_type": "code",
   "execution_count": 28,
   "metadata": {
    "colab": {
     "base_uri": "https://localhost:8080/"
    },
    "executionInfo": {
     "elapsed": 178,
     "status": "ok",
     "timestamp": 1679251352831,
     "user": {
      "displayName": "Arwen Shackelford",
      "userId": "14614635049532489764"
     },
     "user_tz": 300
    },
    "id": "nbWgk78BAgH-",
    "outputId": "80af19c8-c7e3-4cca-a09d-046616d89f38"
   },
   "outputs": [
    {
     "data": {
      "text/plain": [
       "'r626c36'"
      ]
     },
     "execution_count": 28,
     "metadata": {},
     "output_type": "execute_result"
    }
   ],
   "source": [
    "# String slicing example\n",
    "\n",
    "url = \"https://exampleURL1.com/r626c36\"\n",
    "\n",
    "id = url[-7:]\n",
    "\n",
    "id"
   ]
  },
  {
   "cell_type": "code",
   "execution_count": 38,
   "metadata": {
    "id": "iUHHc1ueigi4"
   },
   "outputs": [],
   "source": [
    "# Checking the input url and creating an output for the user to see the validation of the url\n",
    "\n",
    "# If the url is no valid create messages for the user\n",
    "\n",
    "# Sample valid URL for reference while writing your function:\n",
    "url = 'https://exampleURL1.com/r626c36'\n",
    "\n",
    "def url_checker(url):\n",
    "    protocol = 'https:'\n",
    "    char = 7\n",
    "    url_split = url.split('/')\n",
    "    if url_split[0] != protocol and len(url_split[-1]) != 7:\n",
    "        print('{} is an invalid protocol'.format(url_split[0]))\n",
    "        print('{} is an invalid store ID'.format(url_split[-1]))\n",
    "    elif url_split[0] != protocol:\n",
    "        print('{} is an invalid protocol'.format(url_split[0]))\n",
    "    elif len(url_split[-1]) != 7:\n",
    "        print('{} is an invalid store ID'.format(url_split[-1]))\n",
    "    \n",
    "    else:\n",
    "        print(url_split[-1])\n",
    "\n",
    "        \n"
   ]
  },
  {
   "cell_type": "code",
   "execution_count": 36,
   "metadata": {},
   "outputs": [
    {
     "name": "stdout",
     "output_type": "stream",
     "text": [
      "r626c36\n"
     ]
    }
   ],
   "source": [
    "url_checker(url)"
   ]
  },
  {
   "cell_type": "code",
   "execution_count": 39,
   "metadata": {
    "colab": {
     "base_uri": "https://localhost:8080/",
     "height": 105
    },
    "executionInfo": {
     "elapsed": 213,
     "status": "ok",
     "timestamp": 1679952730435,
     "user": {
      "displayName": "Matteo Riotto",
      "userId": "15211004813978485634"
     },
     "user_tz": 420
    },
    "id": "vle6y9719n9d",
    "outputId": "bf167846-292e-4e64-fc7c-82e3ca5616ff"
   },
   "outputs": [
    {
     "name": "stdout",
     "output_type": "stream",
     "text": [
      "http: is an invalid protocol\n",
      "r626c3 is an invalid store ID\n",
      "\n",
      "ftps: is an invalid protocol\n",
      "\n",
      "r626c3 is an invalid store ID\n",
      "\n",
      "r626c36\n"
     ]
    }
   ],
   "source": [
    "# Test the Function            # Should return:\n",
    "url_checker('http://exampleURL1.com/r626c3')    # 'http: is an invalid protocol.'\n",
    "print()                                         # 'r626c3 is an invalid store ID.'\n",
    "\n",
    "url_checker('ftps://exampleURL1.com/r626c36')   # 'ftps: is an invalid protocol.\n",
    "print()\n",
    "url_checker('https://exampleURL1.com/r626c3')   # 'r626c3 is an invalid store ID.'\n",
    "print()\n",
    "url_checker('https://exampleURL1.com/r626c36')  # 'r626c36'"
   ]
  }
 ],
 "metadata": {
  "colab": {
   "provenance": []
  },
  "kernelspec": {
   "display_name": "Python 3 (ipykernel)",
   "language": "python",
   "name": "python3"
  },
  "language_info": {
   "codemirror_mode": {
    "name": "ipython",
    "version": 3
   },
   "file_extension": ".py",
   "mimetype": "text/x-python",
   "name": "python",
   "nbconvert_exporter": "python",
   "pygments_lexer": "ipython3",
   "version": "3.11.3"
  }
 },
 "nbformat": 4,
 "nbformat_minor": 1
}
